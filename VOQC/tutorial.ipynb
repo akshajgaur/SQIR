{
 "cells": [
  {
   "cell_type": "markdown",
   "metadata": {},
   "source": [
    "# VOQC  <img src=\"umd.jpeg\" alt=\"Drawing\" style=\"width: 100px\" align=\"right\">\n",
    "\n",
    "</style>\n",
    "Welcome to VOQC, a verfied optimizer for quantum circuits! This tutorial is "
   ]
  },
  {
   "cell_type": "code",
   "execution_count": 9,
   "metadata": {},
   "outputs": [],
   "source": [
    "from qiskit import QuantumCircuit\n",
    "from interop.voqc import SQIR\n",
    "from interop.qiskit.voqc_optimization import VOQC\n",
    "from qiskit.transpiler import PassManager\n",
    "from qiskit.qasm import pi"
   ]
  },
  {
   "cell_type": "markdown",
   "metadata": {},
   "source": [
    "## Passing a Qiskit Circuit Object to VOQC\n",
    "\n",
    "Because of VOQC's interoperability with Cirq and Qiskit, it is now possible to pass a Qiskit circuit object through the VOQC optimizations and receive an optimized Qiskit circuit. \n",
    "\n",
    "The VOQC transpiler takes an input in the form of a Directed Acyclic Graph (like the built-in Qiskit optimizations), converts this into a QASM string, passes the string to VOQC, optimizes the circuit, and returns the optimized QASM string to convert back to a DAG. There is an optional list argument for the VOQC compiler pass, which will be explained in the *Running Individual Optimizations* section. \n",
    "\n",
    "Given a sample circuit **\"circ\"** and Pass Manager **\"pm\"**, you can append the VOQC transpiler pass to **\"pm\"** without an argument, **VOQC()**. This transpiler pass will run the primary optimization function in VOQC, a specific order of the five unitary optimizations listed in the introduction. \n",
    "\n",
    "A basic example of this is shown below. More detail about each unitary optimization will be provided later in the tutorial. \n"
   ]
  },
  {
   "cell_type": "code",
   "execution_count": null,
   "metadata": {},
   "outputs": [],
   "source": []
  },
  {
   "cell_type": "markdown",
   "metadata": {},
   "source": [
    "## Running Individual Unitary Optimizations\n",
    "\n",
    "While appending **VOQC()** to the pass manager runs the primary VOQC optimization function, there are scenarios where you may want to run one or more of the unitary optimizations of VOQC. These five optimizations are *not propagation*, *cancel single qubit gates*, *cancel two qubit gates*, *merge rotations*, and *hadamard reduction*. In this section, we will describe each of the five aforementioned optimizations, including their purpose and how to incorprate them into your compiler pass.\n",
    "\n",
    "As always, the implementations of these optimizations can be found <a href=\"https://github.com/inQWIRE/SQIR\">here</a> and the paper itself can be found <a href=\"https://arxiv.org/abs/1912.02250\">here</a>. "
   ]
  },
  {
   "cell_type": "markdown",
   "metadata": {},
   "source": [
    "### Not Propagation\n",
    "\n",
    "<p>The \"not propagation\" optimization cancels two NOT gates (X) that are either adjacent or separated by a circuit that commutes with X. For commuting circuits, the identities below are applied repeatedly to simplify the circuit.</p> \n",
    "\n",
    "<p><center>$X q;  H q \\equiv H q;  Z q$</center></p>\n",
    "<p><center>$X q;  Rz(k) q \\approx Rz(2-k) q;  X q$</center></p>\n",
    "<p><center>$X q_{1};  CNOT q_{1} q_{2} \\equiv CNOT q_{1} q_{2};  X q_{1};  X q_{2}$</center></p>\n",
    "<p><center>$X q_{2};  CNOT q_{1} q_{2} \\equiv CNOT q_{1} q_{2};  X q_{2}$</center></p>\n",
    "\n",
    "\n",
    "\n",
    "\n",
    "<p>In the example below, the leftmost X gate propagates through the CNOT gate, invoking the fourth identity above. Now, the circuit consists of a CNOT gate and two adjacent NOT gates. These adjacent X gates are \"cancelled,\" leading to the final circuit, a single CNOT gate. </p>\n",
    "\n",
    "<p>To use this optimization, append \"not_propagation\" to the optional list argument in the VOQC compiler pass. \n"
   ]
  },
  {
   "cell_type": "code",
   "execution_count": 15,
   "metadata": {},
   "outputs": [
    {
     "name": "stdout",
     "output_type": "stream",
     "text": [
      "Before Optimization:\n",
      "                    \n",
      "q_0: ───────■───────\n",
      "     ┌───┐┌─┴─┐┌───┐\n",
      "q_1: ┤ X ├┤ X ├┤ X ├\n",
      "     └───┘└───┘└───┘\n",
      "After Optimization:\n",
      "          \n",
      "q_0: ──■──\n",
      "     ┌─┴─┐\n",
      "q_1: ┤ X ├\n",
      "     └───┘\n"
     ]
    }
   ],
   "source": [
    "#Build Circuit with Two Qubits and Two Gates (CNOT and NOT)\n",
    "circ = QuantumCircuit(2)\n",
    "circ.x(1)\n",
    "circ.cx(0, 1)\n",
    "circ.x(1)\n",
    "print(\"Before Optimization:\")\n",
    "print(circ)\n",
    "\n",
    "#Append \"not_propagation\" optimization to the Pass Manager\n",
    "pm = PassManager()\n",
    "pm.append(VOQC([\"not_propagation\"]))\n",
    "new_circ = pm.run(circ)\n",
    "\n",
    "#Print Optimized Circuit\n",
    "print(\"After Optimization:\")\n",
    "print(new_circ)"
   ]
  },
  {
   "cell_type": "markdown",
   "metadata": {},
   "source": [
    "### Cancel Single Qubit Gates"
   ]
  },
  {
   "cell_type": "code",
   "execution_count": 10,
   "metadata": {},
   "outputs": [
    {
     "name": "stdout",
     "output_type": "stream",
     "text": [
      "Before Optimization:\n",
      "     ┌──────────┐┌───┐┌───┐\n",
      "q_0: ┤ RZ(pi/2) ├┤ H ├┤ H ├\n",
      "     └──────────┘└───┘└───┘\n",
      "After Optimization:\n",
      "     ┌───┐\n",
      "q_0: ┤ S ├\n",
      "     └───┘\n"
     ]
    }
   ],
   "source": [
    "#Build Circuit with One Qubit and Three Gates (Rz and 2 Hadamard)\n",
    "circ = QuantumCircuit(1)\n",
    "circ.rz(pi/2, 0)\n",
    "circ.h(0)\n",
    "circ.h(0)\n",
    "print(\"Before Optimization:\")\n",
    "print(circ)\n",
    "\n",
    "#Append \"cancel_single_qubit_gates\" optimization to the Pass Manager\n",
    "pm = PassManager()\n",
    "pm.append(VOQC([\"cancel_single_qubit_gates\"]))\n",
    "new_circ = pm.run(circ)\n",
    "\n",
    "#Print Optimized Circuit\n",
    "print(\"After Optimization:\")\n",
    "print(new_circ)"
   ]
  },
  {
   "cell_type": "markdown",
   "metadata": {},
   "source": [
    "### Cancel Two Qubit Gates"
   ]
  },
  {
   "cell_type": "code",
   "execution_count": 11,
   "metadata": {},
   "outputs": [
    {
     "name": "stdout",
     "output_type": "stream",
     "text": [
      "Before Optimization:\n",
      "               ┌───┐\n",
      "q_0: ──■────■──┤ H ├\n",
      "     ┌─┴─┐┌─┴─┐└───┘\n",
      "q_1: ┤ X ├┤ X ├─────\n",
      "     └───┘└───┘     \n",
      "After Optimization:\n",
      "     ┌───┐\n",
      "q_0: ┤ H ├\n",
      "     └───┘\n",
      "q_1: ─────\n",
      "          \n"
     ]
    }
   ],
   "source": [
    "#Build Circuit with Two Qubits and Three Gates (2 CNOT and Hadamard)\n",
    "circ = QuantumCircuit(2)\n",
    "circ.cx(0, 1)\n",
    "circ.cx(0, 1)\n",
    "circ.h(0)\n",
    "print(\"Before Optimization:\")\n",
    "print(circ)\n",
    "\n",
    "#Append \"cancel_two_qubit_gates\" optimization to the Pass Manager\n",
    "pm = PassManager()\n",
    "pm.append(VOQC([\"cancel_two_qubit_gates\"]))\n",
    "new_circ = pm.run(circ)\n",
    "\n",
    "#Print Optimized Circuit\n",
    "print(\"After Optimization:\")\n",
    "print(new_circ)"
   ]
  },
  {
   "cell_type": "markdown",
   "metadata": {},
   "source": [
    "### Merge Rotations"
   ]
  },
  {
   "cell_type": "code",
   "execution_count": 13,
   "metadata": {},
   "outputs": [
    {
     "name": "stdout",
     "output_type": "stream",
     "text": [
      "Before Optimization:\n",
      "     ┌──────────┐┌──────────┐\n",
      "q_0: ┤ RZ(pi/4) ├┤ RZ(pi/4) ├\n",
      "     └──────────┘└──────────┘\n",
      "After Optimization:\n",
      "     ┌───┐\n",
      "q_0: ┤ S ├\n",
      "     └───┘\n"
     ]
    }
   ],
   "source": [
    "#Build Circuit with One Qubit and Two Gates (Two Rz)\n",
    "circ = QuantumCircuit(1)\n",
    "circ.rz(pi/4, 0)\n",
    "circ.rz(pi/4, 0)\n",
    "print(\"Before Optimization:\")\n",
    "print(circ)\n",
    "\n",
    "#Append \"merge_rotations\" optimization to the Pass Manager\n",
    "pm = PassManager()\n",
    "pm.append(VOQC([\"merge_rotations\"]))\n",
    "new_circ = pm.run(circ)\n",
    "\n",
    "#Print Optimized Circuit\n",
    "print(\"After Optimization:\")\n",
    "print(new_circ)"
   ]
  },
  {
   "cell_type": "markdown",
   "metadata": {},
   "source": [
    "### Hadamard Reduction"
   ]
  },
  {
   "cell_type": "code",
   "execution_count": 14,
   "metadata": {},
   "outputs": [
    {
     "name": "stdout",
     "output_type": "stream",
     "text": [
      "Before Optimization:\n",
      "     ┌───┐┌──────────┐┌───┐\n",
      "q_0: ┤ H ├┤ RZ(pi/2) ├┤ H ├\n",
      "     └───┘└──────────┘└───┘\n",
      "After Optimization:\n",
      "     ┌─────┐┌───┐┌─────┐\n",
      "q_0: ┤ SDG ├┤ H ├┤ SDG ├\n",
      "     └─────┘└───┘└─────┘\n"
     ]
    }
   ],
   "source": [
    "#Build Circuit with Two Qubits and Two Gates (CNOT and NOT)\n",
    "circ = QuantumCircuit(1)\n",
    "circ.h(0)\n",
    "circ.rz(pi/2, 0)\n",
    "circ.h(0)\n",
    "\n",
    "print(\"Before Optimization:\")\n",
    "print(circ)\n",
    "\n",
    "#Append \"hadamard_reduction\" optimization to the Pass Manager\n",
    "pm = PassManager()\n",
    "pm.append(VOQC([\"hadamard_reduction\"]))\n",
    "new_circ = pm.run(circ)\n",
    "\n",
    "#Print Optimized Circuit\n",
    "print(\"After Optimization:\")\n",
    "print(new_circ)"
   ]
  },
  {
   "cell_type": "code",
   "execution_count": null,
   "metadata": {},
   "outputs": [],
   "source": []
  },
  {
   "cell_type": "code",
   "execution_count": null,
   "metadata": {},
   "outputs": [],
   "source": []
  },
  {
   "cell_type": "code",
   "execution_count": null,
   "metadata": {},
   "outputs": [],
   "source": []
  }
 ],
 "metadata": {
  "kernelspec": {
   "display_name": "Python 3",
   "language": "python",
   "name": "python3"
  },
  "language_info": {
   "codemirror_mode": {
    "name": "ipython",
    "version": 3
   },
   "file_extension": ".py",
   "mimetype": "text/x-python",
   "name": "python",
   "nbconvert_exporter": "python",
   "pygments_lexer": "ipython3",
   "version": "3.8.3"
  }
 },
 "nbformat": 4,
 "nbformat_minor": 4
}
