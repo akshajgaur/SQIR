{
 "cells": [
  {
   "cell_type": "markdown",
   "metadata": {},
   "source": [
    "# VOQC  <img src=\"umd.jpeg\" alt=\"Drawing\" style=\"width: 100px\" align=\"right\">\n",
    "\n",
    "\n",
    "Welcome to VOQC, a verfied optimizer for quantum circuits! This tutorial is "
   ]
  },
  {
   "cell_type": "code",
   "execution_count": 1,
   "metadata": {},
   "outputs": [],
   "source": [
    "from qiskit import QuantumCircuit\n",
    "from interop.voqc import SQIR\n",
    "from interop.qiskit.voqc_optimization import VOQC\n",
    "from qiskit.transpiler import PassManager\n",
    "from qiskit.qasm import pi"
   ]
  },
  {
   "cell_type": "markdown",
   "metadata": {},
   "source": [
    "## Passing a Qiskit Circuit Object to VOQC\n",
    "\n",
    "Because of VOQC's interoperability with Cirq and Qiskit, it is now possible to pass a Qiskit circuit object through the VOQC optimizations and receive an optimized Qiskit circuit.\n",
    "\n",
    "The VOQC transpiler can be called similarly to Qiskit's built-in transpiler passes (e.g. \"Commutative Cancellation\" and \"CX Cancellation\"). **VOQC(\\[*list of optimizations*\\])** can be appended to a pre-defined **Pass Manager** with \"list of optimizations\" being an optional argument used to run one or more of the unitary optiizations in VOQC (see *Running Individual Unitary Optimizations*). Appending **VOQC()**, without the argument, will run VOQC's primary optimization function, a specific order of the unitary optimizations. \n",
    "\n",
    "### Example 1\n",
    "\n",
    "In our first example, we will pass a basic Qiskit circuit to VOQC without the optional list argument, taking advantage of VOQC's main optimization function.\n",
    "\n",
    "We first create a four-qubit circuit with 2 NOT gates, 2 hadamard gates, and a CNOT gate. Given this sample circuit **circ**, we define a Pass Manager **pm** to schedule our VOQC transpiler pass. Then, we can append the VOQC transpiler pass to **pm** without an argument, **VOQC()**. Finally, we run our initial circuit **circ** through the primary VOQC optimization and receive and print our optimized circuit **new_circ**.  \n",
    "\n",
    "We began with a circuit consisting of 5 gates, but have reduced it to just a singular gate. Now, we will go into more detail on the specifics of each individual optimization.\n"
   ]
  },
  {
   "cell_type": "code",
   "execution_count": 8,
   "metadata": {},
   "outputs": [
    {
     "name": "stdout",
     "output_type": "stream",
     "text": [
      "Before Optimization:\n",
      "     ┌───┐┌───┐\n",
      "q_0: ┤ X ├┤ X ├\n",
      "     ├───┤├───┤\n",
      "q_1: ┤ H ├┤ H ├\n",
      "     └───┘└───┘\n",
      "q_2: ──■───────\n",
      "     ┌─┴─┐     \n",
      "q_3: ┤ X ├─────\n",
      "     └───┘     \n",
      "After Optimization:\n",
      "          \n",
      "q_0: ─────\n",
      "          \n",
      "q_1: ─────\n",
      "          \n",
      "q_2: ──■──\n",
      "     ┌─┴─┐\n",
      "q_3: ┤ X ├\n",
      "     └───┘\n"
     ]
    }
   ],
   "source": [
    "#Build Circuit with 4 Qubits and 5 Gates \n",
    "circ = QuantumCircuit(4)\n",
    "circ.x(0)\n",
    "circ.h(1)\n",
    "circ.x(0)\n",
    "circ.h(1)\n",
    "circ.cx(2, 3)\n",
    "print(\"Before Optimization:\")\n",
    "print(circ)\n",
    "\n",
    "#Append VOQC pass without argument to the Pass Manager\n",
    "pm = PassManager()\n",
    "pm.append(VOQC())\n",
    "new_circ = pm.run(circ)\n",
    "\n",
    "#Print Optimized Circuit\n",
    "print(\"After Optimization:\")\n",
    "print(new_circ)"
   ]
  },
  {
   "cell_type": "markdown",
   "metadata": {},
   "source": [
    "## Running Individual Unitary Optimizations\n",
    "\n",
    "While appending **VOQC()** to the pass manager runs the primary VOQC optimization function, there are scenarios where you may want to run one or more of the unitary optimizations of VOQC. These five optimizations are *not propagation*, *cancel single qubit gates*, *cancel two qubit gates*, *merge rotations*, and *hadamard reduction*. In this section, we will describe each of the five aforementioned optimizations, including their purpose and how to incorprate them into your compiler pass.\n",
    "\n",
    "As always, the implementations of these optimizations can be found <a href=\"https://github.com/inQWIRE/SQIR\">here</a> and the paper itself can be found <a href=\"https://arxiv.org/abs/1912.02250\">here</a>. "
   ]
  },
  {
   "cell_type": "markdown",
   "metadata": {},
   "source": [
    "### Not Propagation\n",
    "\n",
    "<p>The \"not propagation\" optimization cancels two NOT gates (X) that are either adjacent or separated by a circuit that commutes with X. For commuting circuits, the identities below are applied repeatedly to simplify the circuit.</p> \n",
    "\n",
    "<p><center>$X q;  H q \\equiv H q;  Z q$</center></p>\n",
    "<p><center>$X q;  Rz(k) q \\approx Rz(2-k) q;  X q$</center></p>\n",
    "<p><center>$X q_{1};  CNOT q_{1} q_{2} \\equiv CNOT q_{1} q_{2};  X q_{1};  X q_{2}$</center></p>\n",
    "<p><center>$X q_{2};  CNOT q_{1} q_{2} \\equiv CNOT q_{1} q_{2};  X q_{2}$</center></p>\n",
    "\n",
    "\n",
    "#### Example 2\n",
    "\n",
    "This time, instead of using the transpiler pass without the optional list argument, we will pass a list of one element to VOQC. The optional list argument to invoke the *not propagation* optimization is **not_propagation**, so we append the following to the pass maanger: **VOQC([\"not_propagation\"])**. \n",
    "    \n",
    "To test this, we will create a two-qubit circuit, consisting of 2 X gates and one CX gate. Once this is passed to VOQC, the leftmost X gate propagates through the CNOT gate, invoking the fourth identity above. Now, the circuit consists of a CNOT gate and two adjacent NOT gates. These adjacent X gates are \"cancelled,\" leading to the final circuit, a single CNOT gate.\n",
    "\n",
    "\n"
   ]
  },
  {
   "cell_type": "code",
   "execution_count": 15,
   "metadata": {},
   "outputs": [
    {
     "name": "stdout",
     "output_type": "stream",
     "text": [
      "Before Optimization:\n",
      "                    \n",
      "q_0: ───────■───────\n",
      "     ┌───┐┌─┴─┐┌───┐\n",
      "q_1: ┤ X ├┤ X ├┤ X ├\n",
      "     └───┘└───┘└───┘\n",
      "After Optimization:\n",
      "          \n",
      "q_0: ──■──\n",
      "     ┌─┴─┐\n",
      "q_1: ┤ X ├\n",
      "     └───┘\n"
     ]
    }
   ],
   "source": [
    "#Build Circuit with Two Qubits and Two Gates (CNOT and NOT)\n",
    "circ = QuantumCircuit(2)\n",
    "circ.x(1)\n",
    "circ.cx(0, 1)\n",
    "circ.x(1)\n",
    "print(\"Before Optimization:\")\n",
    "print(circ)\n",
    "\n",
    "#Append \"not_propagation\" optimization to the Pass Manager\n",
    "pm = PassManager()\n",
    "pm.append(VOQC([\"not_propagation\"]))\n",
    "new_circ = pm.run(circ)\n",
    "\n",
    "#Print Optimized Circuit\n",
    "print(\"After Optimization:\")\n",
    "print(new_circ)"
   ]
  },
  {
   "cell_type": "markdown",
   "metadata": {},
   "source": [
    "### Cancel Single Qubit Gates\n",
    "\n",
    "In addition to *not propgation*, **cancel single qubit gates** is another *propagate-cancel* optimization in VOQC. This also uses cancellation and commutation rules. The cancellation rules are based upon the fact that X and H gates are self-cancelling and the commutation rules can be seen in *Figure 6* of Hietala et al. [2019]. Gowever, a key difference between this cancellation and *not_propagation* is that the gates revert back to their original positons if they cannot commute or cancel. \n",
    "\n",
    "Here is an example of the self-cancelling nature of an X gate. Multiplying these matrices results in the identity matrix.\n",
    "\n",
    "<p><center>$\\begin{bmatrix}0 & 1\\\\1 & 0\\end{bmatrix}$\n",
    "$\\begin{bmatrix}0 & 1\\\\1 & 0\\end{bmatrix}$\n",
    "= $\\begin{bmatrix}1 & 0\\\\0 & 1\\end{bmatrix}$</center></p>\n",
    "\n",
    "#### Example 3\n",
    "\n",
    "Similarly to **not_propagation**, we will append the **VOQC([\"cancel_single_qubit_gates\"])** to the pass manager to call the \"cancel_single_qubit_gates\" function in OCaml. \n",
    "    \n",
    "We define a single qubit circuit **circ** with three gates and take advantage of the fact that X gates are self-cancelling. Therefore, we expect that we will end up with a single gate, a z-axis rotation of $\\frac {\\pi}{2}$. This rotation is a special case rotation, simplifying to an S gate. \n",
    "\n",
    "\n"
   ]
  },
  {
   "cell_type": "code",
   "execution_count": 10,
   "metadata": {},
   "outputs": [
    {
     "name": "stdout",
     "output_type": "stream",
     "text": [
      "Before Optimization:\n",
      "     ┌──────────┐┌───┐┌───┐\n",
      "q_0: ┤ RZ(pi/2) ├┤ H ├┤ H ├\n",
      "     └──────────┘└───┘└───┘\n",
      "After Optimization:\n",
      "     ┌───┐\n",
      "q_0: ┤ S ├\n",
      "     └───┘\n"
     ]
    }
   ],
   "source": [
    "#Build Circuit with One Qubit and Three Gates (Rz and 2 Hadamard)\n",
    "circ = QuantumCircuit(1)\n",
    "circ.rz(pi/2, 0)\n",
    "circ.h(0)\n",
    "circ.h(0)\n",
    "print(\"Before Optimization:\")\n",
    "print(circ)\n",
    "\n",
    "#Append \"cancel_single_qubit_gates\" optimization to the Pass Manager\n",
    "pm = PassManager()\n",
    "pm.append(VOQC([\"cancel_single_qubit_gates\"]))\n",
    "new_circ = pm.run(circ)\n",
    "\n",
    "#Print Optimized Circuit\n",
    "print(\"After Optimization:\")\n",
    "print(new_circ)"
   ]
  },
  {
   "cell_type": "markdown",
   "metadata": {},
   "source": [
    "### Cancel Two Qubit Gates\n",
    "\n",
    "This optimization is almost identical to the *cancel_single_qubit_gates* optimization in the previous section, except for the fact that it applies to two-qubit gates (CX), rather than the X, H, and Rz gates. \n",
    "\n",
    "<p><center>$\\begin{bmatrix}1 & 0 & 0 & 0\\\\0 & 1 & 0 & 0\\\\0 & 0 & 0 & 1\\\\0 & 0 & 1 & 0\\end{bmatrix}$\n",
    "$\\begin{bmatrix}1 & 0 & 0 & 0\\\\0 & 1 & 0 & 0\\\\0 & 0 & 0 & 1\\\\0 & 0 & 1 & 0\\end{bmatrix}$\n",
    "= $\\begin{bmatrix}1 & 0 & 0 & 0\\\\0 & 1 & 0 & 0\\\\0 & 0 & 1 & 0\\\\0 & 0 & 0 & 1\\end{bmatrix}$</center></p>\n",
    "\n",
    "#### Example 4\n",
    "\n",
    "In our new circuit, we will have an H gate act on qubit 0 and two CNOT gates with control qubit 0 and target qubit 1. Just like earlier, we will add **VOQC([\"cancel_two_qubit_gates\"])** to the pass manager and run the circuit. \n",
    "    \n",
    "The two CX gates cancel and the final circuit contains just the original hadamard gate.\n",
    "\n"
   ]
  },
  {
   "cell_type": "code",
   "execution_count": 11,
   "metadata": {},
   "outputs": [
    {
     "name": "stdout",
     "output_type": "stream",
     "text": [
      "Before Optimization:\n",
      "               ┌───┐\n",
      "q_0: ──■────■──┤ H ├\n",
      "     ┌─┴─┐┌─┴─┐└───┘\n",
      "q_1: ┤ X ├┤ X ├─────\n",
      "     └───┘└───┘     \n",
      "After Optimization:\n",
      "     ┌───┐\n",
      "q_0: ┤ H ├\n",
      "     └───┘\n",
      "q_1: ─────\n",
      "          \n"
     ]
    }
   ],
   "source": [
    "#Build Circuit with Two Qubits and Three Gates (2 CNOT and Hadamard)\n",
    "circ = QuantumCircuit(2)\n",
    "circ.cx(0, 1)\n",
    "circ.cx(0, 1)\n",
    "circ.h(0)\n",
    "print(\"Before Optimization:\")\n",
    "print(circ)\n",
    "\n",
    "#Append \"cancel_two_qubit_gates\" optimization to the Pass Manager\n",
    "pm = PassManager()\n",
    "pm.append(VOQC([\"cancel_two_qubit_gates\"]))\n",
    "new_circ = pm.run(circ)\n",
    "\n",
    "#Print Optimized Circuit\n",
    "print(\"After Optimization:\")\n",
    "print(new_circ)"
   ]
  },
  {
   "cell_type": "markdown",
   "metadata": {},
   "source": [
    "### Merge Rotations\n",
    "\n",
    "#### Example 5\n",
    "\n",
    "This time, instead of using the transpiler pass without the optional list argument, we will pass a list of one element to VOQC. The optional list argument to invoke the *not propagation* optimization is **not_propagation**, so we append the following to the pass maanger: **VOQC([\"not_propagation\"])**. \n",
    "    \n",
    "To test this, we will create a two-qubit circuit, consisting of 2 X gates and one CX gate. Once this is passed to VOQC, the leftmost X gate propagates through the CNOT gate, invoking the fourth identity above. Now, the circuit consists of a CNOT gate and two adjacent NOT gates. These adjacent X gates are \"cancelled,\" leading to the final circuit, a single CNOT gate.\n",
    "\n",
    "\n"
   ]
  },
  {
   "cell_type": "code",
   "execution_count": 13,
   "metadata": {},
   "outputs": [
    {
     "name": "stdout",
     "output_type": "stream",
     "text": [
      "Before Optimization:\n",
      "     ┌──────────┐┌──────────┐\n",
      "q_0: ┤ RZ(pi/4) ├┤ RZ(pi/4) ├\n",
      "     └──────────┘└──────────┘\n",
      "After Optimization:\n",
      "     ┌───┐\n",
      "q_0: ┤ S ├\n",
      "     └───┘\n"
     ]
    }
   ],
   "source": [
    "#Build Circuit with One Qubit and Two Gates (Two Rz)\n",
    "circ = QuantumCircuit(1)\n",
    "circ.rz(pi/4, 0)\n",
    "circ.rz(pi/4, 0)\n",
    "print(\"Before Optimization:\")\n",
    "print(circ)\n",
    "\n",
    "#Append \"merge_rotations\" optimization to the Pass Manager\n",
    "pm = PassManager()\n",
    "pm.append(VOQC([\"merge_rotations\"]))\n",
    "new_circ = pm.run(circ)\n",
    "\n",
    "#Print Optimized Circuit\n",
    "print(\"After Optimization:\")\n",
    "print(new_circ)"
   ]
  },
  {
   "cell_type": "markdown",
   "metadata": {},
   "source": [
    "### Hadamard Reduction\n",
    "\n",
    "#### Example 6\n",
    "\n",
    "This time, instead of using the transpiler pass without the optional list argument, we will pass a list of one element to VOQC. The optional list argument to invoke the *not propagation* optimization is **not_propagation**, so we append the following to the pass maanger: **VOQC([\"not_propagation\"])**. \n",
    "    \n",
    "To test this, we will create a two-qubit circuit, consisting of 2 X gates and one CX gate. Once this is passed to VOQC, the leftmost X gate propagates through the CNOT gate, invoking the fourth identity above. Now, the circuit consists of a CNOT gate and two adjacent NOT gates. These adjacent X gates are \"cancelled,\" leading to the final circuit, a single CNOT gate.\n",
    "\n",
    "\n"
   ]
  },
  {
   "cell_type": "code",
   "execution_count": 14,
   "metadata": {},
   "outputs": [
    {
     "name": "stdout",
     "output_type": "stream",
     "text": [
      "Before Optimization:\n",
      "     ┌───┐┌──────────┐┌───┐\n",
      "q_0: ┤ H ├┤ RZ(pi/2) ├┤ H ├\n",
      "     └───┘└──────────┘└───┘\n",
      "After Optimization:\n",
      "     ┌─────┐┌───┐┌─────┐\n",
      "q_0: ┤ SDG ├┤ H ├┤ SDG ├\n",
      "     └─────┘└───┘└─────┘\n"
     ]
    }
   ],
   "source": [
    "#Build Circuit with Two Qubits and Two Gates (CNOT and NOT)\n",
    "circ = QuantumCircuit(1)\n",
    "circ.h(0)\n",
    "circ.rz(pi/2, 0)\n",
    "circ.h(0)\n",
    "\n",
    "print(\"Before Optimization:\")\n",
    "print(circ)\n",
    "\n",
    "#Append \"hadamard_reduction\" optimization to the Pass Manager\n",
    "pm = PassManager()\n",
    "pm.append(VOQC([\"hadamard_reduction\"]))\n",
    "new_circ = pm.run(circ)\n",
    "\n",
    "#Print Optimized Circuit\n",
    "print(\"After Optimization:\")\n",
    "print(new_circ)"
   ]
  },
  {
   "cell_type": "code",
   "execution_count": null,
   "metadata": {},
   "outputs": [],
   "source": []
  },
  {
   "cell_type": "code",
   "execution_count": null,
   "metadata": {},
   "outputs": [],
   "source": []
  },
  {
   "cell_type": "code",
   "execution_count": null,
   "metadata": {},
   "outputs": [],
   "source": []
  }
 ],
 "metadata": {
  "kernelspec": {
   "display_name": "Python 3",
   "language": "python",
   "name": "python3"
  },
  "language_info": {
   "codemirror_mode": {
    "name": "ipython",
    "version": 3
   },
   "file_extension": ".py",
   "mimetype": "text/x-python",
   "name": "python",
   "nbconvert_exporter": "python",
   "pygments_lexer": "ipython3",
   "version": "3.8.3"
  }
 },
 "nbformat": 4,
 "nbformat_minor": 4
}
