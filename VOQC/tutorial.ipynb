{
 "cells": [
  {
   "cell_type": "markdown",
   "metadata": {},
   "source": [
    "# VOQC: A Verifed Optimizer for Quantum Circuits <img src=\"img/umd.jpeg\" width=\"100\" align=\"right\">\n",
    "\n",
    "Welcome to the tutorial for VOQC! \n",
    "\n",
    "VOQC is a **verified optimizer for quantum circuits**, implemented and *formally verified* in the [Coq proof assistant](https://coq.inria.fr/). All VOQC optimizations are *guaranteed* to preserve the semantics of the original circuit, meaning that any optimized circuit produced by VOQC has the same behavior as the input circuit. VOQC was presented as a [distinguished paper at POPL 2021](https://arxiv.org/abs/1912.02250); its code is available at [github.com/inQWIRE/SQIR](https://github.com/inQWIRE/SQIR).\n",
    "\n",
    "To run VOQC, we (1) extract the verified Coq code to OCaml, (2) compile the extracted OCaml code to a library, (3) wrap the OCaml library in C, and (4) provide a Python interface for the C wrapper. This tutorial introduces the optimizations available in VOQC through its Python interface. For convenience, we have written Python wrapper code that makes VOQC look like an optimization pass in [IBM's Qiskit framework](https://qiskit.org/documentation/getting_started.html), allowing us to take advantage of Qiskit's utilities for quantum programming. In this tutorial, we'll use Qiskit for building and printing circuits.\n",
    "\n",
    "## Outline\n",
    "\n",
    "* End-to-end Example\n",
    "* Unitary Optimizations\n",
    "  * Not Propagation\n",
    "  * Single-qubit Gate Cancellation\n",
    "  * Two-qubit Gate Cancellation\n",
    "  * Rotation Merging\n",
    "  * Hadamard Reduction \n",
    "\n",
    "We begin with an example of reading in a circuit, optimizing it using VOQC, and writing it back to a file.\n",
    "We then describe each unitary optimization available in VOQC, along with an example of how to run it in Qiskit.  \n",
    "\n",
    "## Preliminaries\n",
    "\n",
    "To compile the extracted OCaml code into a library, run `dune build extraction/libvoqc.so` in the VOQC directory.\n",
    "\n",
    "To begin the tutorial, import modules below from Qiskit and VOQC. "
   ]
  },
  {
   "cell_type": "code",
   "execution_count": 1,
   "metadata": {},
   "outputs": [],
   "source": [
    "# Click on this cell and press Ctrl+Enter or run it with the \"Run\" button\n",
    "from qiskit import QuantumCircuit\n",
    "from interop.voqc import SQIR\n",
    "from interop.qiskit.voqc_optimization import VOQC\n",
    "from qiskit.transpiler import PassManager\n",
    "from qiskit.qasm import pi"
   ]
  },
  {
   "cell_type": "markdown",
   "metadata": {},
   "source": [
    "## End-to-end Example\n",
    "\n",
    "Our Python interface allows us to pass a Qiskit circuit object through VOQC and receive an optimized Qiskit circuit.\n",
    "\n",
    "VOQC can be called just like Qiskit's built-in transpiler passes (e.g. \"Commutative Cancellation\" or \"CX Cancellation\"). Simply append `VOQC([opt list])` to a pre-defined `Pass Manager` where `opt list` is an optional argument specifying one or more of the unitary optimizations in VOQC (see *Unitary Optimizations* below). `VOQC()` with no arguments will run all optimizations available in VOQC.\n",
    "\n",
    "In the example here, we first read in a small quantum circuit from the qasm file \"tof_3_example.qasm\". This circuit consists of three 3-qubit CCX (Toffoli) gates that together perform a 4-qubit Toffoli gate. Qiskit will *decompose* these 3-qubit gates into the 1- and 2-qubit gates supported by VOQC. We call the initial circuit `circ`. We then define a pass manager `pm` and schedule our VOQC transpiler pass. Finally, we run `circ` through the pass manager, producing optimized circuit `new_circ`. Rather than printing the resulting circuit (which is fairly large), we print the its gate counts. We also write `new_circ` to the file \"tof_3_example_optimized.qasm\"."
   ]
  },
  {
   "cell_type": "code",
   "execution_count": 2,
   "metadata": {},
   "outputs": [
    {
     "name": "stdout",
     "output_type": "stream",
     "text": [
      "Before Optimization:\n",
      "                    \n",
      "q_0: ──■─────────■──\n",
      "       │         │  \n",
      "q_1: ──■─────────■──\n",
      "       │         │  \n",
      "q_2: ──┼────■────┼──\n",
      "       │  ┌─┴─┐  │  \n",
      "q_3: ──┼──┤ X ├──┼──\n",
      "     ┌─┴─┐└─┬─┘┌─┴─┐\n",
      "q_4: ┤ X ├──■──┤ X ├\n",
      "     └───┘     └───┘\n",
      "\n",
      "After Optimization:\n",
      "\n",
      "gate counts =  OrderedDict([('cx', 16), ('t', 8), ('tdg', 7), ('h', 6), ('s', 2), ('sdg', 1)])\n",
      "circuit depth =  31\n"
     ]
    }
   ],
   "source": [
    "# Read circuit from file\n",
    "circ = QuantumCircuit.from_qasm_file(\"tof_3_example.qasm\")\n",
    "print(\"Before Optimization:\")\n",
    "print(circ)\n",
    "\n",
    "# Append VOQC pass without argument to the Pass Manager\n",
    "pm = PassManager()\n",
    "pm.append(VOQC())\n",
    "new_circ = pm.run(circ)\n",
    "\n",
    "# Print info about optimized circuit \n",
    "print(\"\\nAfter Optimization:\\n\")\n",
    "print('gate counts = ', new_circ.count_ops())\n",
    "print('circuit depth = ', new_circ.depth())\n",
    "\n",
    "# Save optimized circuit\n",
    "qasm_str = new_circ.qasm(filename=\"tof_3_example_optimized.qasm\")"
   ]
  },
  {
   "cell_type": "markdown",
   "metadata": {},
   "source": [
    "## Unitary Optimizations\n",
    "\n",
    "Appending `VOQC()` to the pass manager runs the VOQC's main optimization function, which runs all its unitary optimizations in a predefined order. You can also run optimizations individually, or in a custom order, by passing arguments to the `VOQC` class (e.g. `VOQC([\"not_propagation\"])` to run \"not propagation\"). VOQC provides five unitary optimizations: *not propagation*, *single-qubit gate cancellation*, *two-qubit gate cancellation*, *rotation merging*, and *hadamard reduction*.\n",
    "\n",
    "We provide a brief example of each optimization below. For more details see Section 4 of [our paper](https://arxiv.org/abs/1912.02250) or an earlier paper by [Nam et al. (2018)](https://www.nature.com/articles/s41534-018-0072-4), which inspired many of VOQC's optimizations."
   ]
  },
  {
   "cell_type": "markdown",
   "metadata": {},
   "source": [
    "### Not Propagation\n",
    "\n",
    "*Not propagation* commutes X (logical NOT) gates rightward through the circuit, cancelling them when possible. In the example below, the leftmost X gate propagates through the CNOT gate to become two X gates. The upper X gate then propagates through the H gate to become a Z, and the two lower X gates cancel."
   ]
  },
  {
   "cell_type": "code",
   "execution_count": 3,
   "metadata": {},
   "outputs": [
    {
     "name": "stdout",
     "output_type": "stream",
     "text": [
      "Before Optimization:\n",
      "     ┌───┐     ┌───┐\n",
      "q_0: ┤ X ├──■──┤ H ├\n",
      "     └───┘┌─┴─┐├───┤\n",
      "q_1: ─────┤ X ├┤ X ├\n",
      "          └───┘└───┘\n",
      "\n",
      "After Optimization:\n",
      "          ┌───┐┌───┐\n",
      "q_0: ──■──┤ H ├┤ Z ├\n",
      "     ┌─┴─┐└───┘└───┘\n",
      "q_1: ┤ X ├──────────\n",
      "     └───┘          \n"
     ]
    }
   ],
   "source": [
    "# Build circuit with 2 qubits and 4 gates\n",
    "circ = QuantumCircuit(2)\n",
    "circ.x(0)\n",
    "circ.cx(0, 1)\n",
    "circ.h(0)\n",
    "circ.x(1)\n",
    "print(\"Before Optimization:\")\n",
    "print(circ)\n",
    "\n",
    "# Append \"not_propagation\" optimization to the Pass Manager\n",
    "pm = PassManager()\n",
    "pm.append(VOQC([\"not_propagation\"]))\n",
    "new_circ = pm.run(circ)\n",
    "\n",
    "# Print optimized circuit\n",
    "print(\"\\nAfter Optimization:\")\n",
    "print(new_circ)"
   ]
  },
  {
   "cell_type": "markdown",
   "metadata": {},
   "source": [
    "### Single-qubit Gate Cancellation\n",
    "\n",
    "*Single-qubit gate cancellation* has the same \"propagate-cancel\" structure as not propagation, except that gates revert back to their original positions if they fail to cancel. In the example below, the upper leftmost T gate commutes through the control of the CNOT, combining with the upper rightmost T gate to become an S gate. The lower T gate commutes through the H;CNOT;H subcircuit to cancel with the Tdg gate."
   ]
  },
  {
   "cell_type": "code",
   "execution_count": 4,
   "metadata": {},
   "outputs": [
    {
     "name": "stdout",
     "output_type": "stream",
     "text": [
      "Before Optimization:\n",
      "     ┌───┐          ┌───┐       \n",
      "q_0: ┤ T ├───────■──┤ T ├───────\n",
      "     ├───┤┌───┐┌─┴─┐├───┤┌─────┐\n",
      "q_1: ┤ T ├┤ H ├┤ X ├┤ H ├┤ TDG ├\n",
      "     └───┘└───┘└───┘└───┘└─────┘\n",
      "\n",
      "After Optimization:\n",
      "               ┌───┐\n",
      "q_0: ───────■──┤ S ├\n",
      "     ┌───┐┌─┴─┐├───┤\n",
      "q_1: ┤ H ├┤ X ├┤ H ├\n",
      "     └───┘└───┘└───┘\n"
     ]
    }
   ],
   "source": [
    "# Build circuit with 2 qubits and 7 gates\n",
    "circ = QuantumCircuit(2)\n",
    "circ.t(0)\n",
    "circ.t(1)\n",
    "circ.h(1)\n",
    "circ.cx(0, 1)\n",
    "circ.h(1)\n",
    "circ.t(0)\n",
    "circ.tdg(1)\n",
    "print(\"Before Optimization:\")\n",
    "print(circ)\n",
    "\n",
    "# Append \"cancel_single_qubit_gates\" optimization to the Pass Manager\n",
    "pm = PassManager()\n",
    "pm.append(VOQC([\"cancel_single_qubit_gates\"]))\n",
    "new_circ = pm.run(circ)\n",
    "\n",
    "# Print optimized circuit\n",
    "print(\"\\nAfter Optimization:\")\n",
    "print(new_circ)"
   ]
  },
  {
   "cell_type": "markdown",
   "metadata": {},
   "source": [
    "### Two-qubit Gate Cancellation\n",
    "\n",
    "*Two-qubit gate cancellation* is similar to single-qubit gate cancellation, except that it aims to commute and cancel CNOT gates. In the circuit below, the first CNOT gate commutes through the second, to cancel with the third."
   ]
  },
  {
   "cell_type": "code",
   "execution_count": 5,
   "metadata": {},
   "outputs": [
    {
     "name": "stdout",
     "output_type": "stream",
     "text": [
      "Before Optimization:\n",
      "                    \n",
      "q_0: ──■────■────■──\n",
      "     ┌─┴─┐  │  ┌─┴─┐\n",
      "q_1: ┤ X ├──┼──┤ X ├\n",
      "     └───┘┌─┴─┐└───┘\n",
      "q_2: ─────┤ X ├─────\n",
      "          └───┘     \n",
      "\n",
      "After Optimization:\n",
      "          \n",
      "q_0: ──■──\n",
      "       │  \n",
      "q_1: ──┼──\n",
      "     ┌─┴─┐\n",
      "q_2: ┤ X ├\n",
      "     └───┘\n"
     ]
    }
   ],
   "source": [
    "# Build circuit with 3 qubits and 3 qates\n",
    "circ = QuantumCircuit(3)\n",
    "circ.cx(0, 1)\n",
    "circ.cx(0, 2)\n",
    "circ.cx(0, 1)\n",
    "#circ.h(0)\n",
    "print(\"Before Optimization:\")\n",
    "print(circ)\n",
    "\n",
    "# Append \"cancel_two_qubit_gates\" optimization to the Pass Manager\n",
    "pm = PassManager()\n",
    "pm.append(VOQC([\"cancel_two_qubit_gates\"]))\n",
    "new_circ = pm.run(circ)\n",
    "\n",
    "# Print optimized circuit\n",
    "print(\"\\nAfter Optimization:\")\n",
    "print(new_circ)"
   ]
  },
  {
   "cell_type": "markdown",
   "metadata": {},
   "source": [
    "### Rotation Merging\n",
    "\n",
    "*Rotation merging* combines Rz gates that act on the same logical state (see discussion in Sec 4.4 of [our paper](https://arxiv.org/abs/1912.02250)). In the example below, the two Rz(pi/6) gates can be combines into a single Rz(pi/6 + pi/6) = Rz(pi/3) gate."
   ]
  },
  {
   "cell_type": "code",
   "execution_count": 6,
   "metadata": {},
   "outputs": [
    {
     "name": "stdout",
     "output_type": "stream",
     "text": [
      "Before Optimization:\n",
      "                      ┌───┐┌──────────┐\n",
      "q_0: ──────────────■──┤ X ├┤ RZ(pi/6) ├\n",
      "     ┌──────────┐┌─┴─┐└─┬─┘└──────────┘\n",
      "q_1: ┤ RZ(pi/6) ├┤ X ├──■──────────────\n",
      "     └──────────┘└───┘                 \n",
      "\n",
      "After Optimization:\n",
      "                      ┌───┐\n",
      "q_0: ──────────────■──┤ X ├\n",
      "     ┌──────────┐┌─┴─┐└─┬─┘\n",
      "q_1: ┤ RZ(pi/3) ├┤ X ├──■──\n",
      "     └──────────┘└───┘     \n"
     ]
    }
   ],
   "source": [
    "# Build circuit with 2 qubits and 4 gates\n",
    "circ = QuantumCircuit(2)\n",
    "circ.rz(pi/6, 1)\n",
    "circ.cx(0, 1)\n",
    "circ.cx(1, 0)\n",
    "circ.rz(pi/6, 0)\n",
    "print(\"Before Optimization:\")\n",
    "print(circ)\n",
    "\n",
    "# Append \"merge_rotations\" optimization to the Pass Manager\n",
    "pm = PassManager()\n",
    "pm.append(VOQC([\"merge_rotations\"]))\n",
    "new_circ = pm.run(circ)\n",
    "\n",
    "# Print optimized circuit\n",
    "print(\"\\nAfter Optimization:\")\n",
    "print(new_circ)"
   ]
  },
  {
   "cell_type": "markdown",
   "metadata": {},
   "source": [
    "### Hadamard Reduction\n",
    "\n",
    "*Hadamard reduction* applies a series of identities to reduce the number of H gates in a circuit, for the purpose of making other optimizations (e.g. rotation merging) more effective. In the example below, we replace the first circuit with the second to remove two H gates."
   ]
  },
  {
   "cell_type": "code",
   "execution_count": 7,
   "metadata": {},
   "outputs": [
    {
     "name": "stdout",
     "output_type": "stream",
     "text": [
      "Before Optimization:\n",
      "                                \n",
      "q_0: ──────────────■────────────\n",
      "     ┌───┐┌─────┐┌─┴─┐┌───┐┌───┐\n",
      "q_1: ┤ H ├┤ SDG ├┤ X ├┤ S ├┤ H ├\n",
      "     └───┘└─────┘└───┘└───┘└───┘\n",
      "\n",
      "After Optimization:\n",
      "                      \n",
      "q_0: ───────■─────────\n",
      "     ┌───┐┌─┴─┐┌─────┐\n",
      "q_1: ┤ S ├┤ X ├┤ SDG ├\n",
      "     └───┘└───┘└─────┘\n"
     ]
    }
   ],
   "source": [
    "# Build circuit with 2 qubits and 5 gates\n",
    "circ = QuantumCircuit(2)\n",
    "circ.h(1)\n",
    "circ.sdg(1)\n",
    "circ.cx(0, 1)\n",
    "circ.s(1)\n",
    "circ.h(1)\n",
    "\n",
    "print(\"Before Optimization:\")\n",
    "print(circ)\n",
    "\n",
    "# Append \"hadamard_reduction\" optimization to the Pass Manager\n",
    "pm = PassManager()\n",
    "pm.append(VOQC([\"hadamard_reduction\"]))\n",
    "new_circ = pm.run(circ)\n",
    "\n",
    "# Print optimized circuit\n",
    "print(\"\\nAfter Optimization:\")\n",
    "print(new_circ)"
   ]
  },
  {
   "cell_type": "code",
   "execution_count": null,
   "metadata": {},
   "outputs": [],
   "source": []
  }
 ],
 "metadata": {
  "kernelspec": {
   "display_name": "Python 3",
   "language": "python",
   "name": "python3"
  },
  "language_info": {
   "codemirror_mode": {
    "name": "ipython",
    "version": 3
   },
   "file_extension": ".py",
   "mimetype": "text/x-python",
   "name": "python",
   "nbconvert_exporter": "python",
   "pygments_lexer": "ipython3",
   "version": "3.7.6"
  }
 },
 "nbformat": 4,
 "nbformat_minor": 4
}
